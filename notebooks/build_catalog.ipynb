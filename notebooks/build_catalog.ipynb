{
 "cells": [
  {
   "cell_type": "markdown",
   "id": "e2af4028-a048-42d2-bc35-a54b0c5000c9",
   "metadata": {},
   "source": [
    "# Build a data catalog for the test data\n",
    "\n",
    "## Imports"
   ]
  },
  {
   "cell_type": "code",
   "execution_count": 1,
   "id": "8c72d7e5-fc03-440f-ad5d-590a50aa0790",
   "metadata": {},
   "outputs": [],
   "source": [
    "from ecgtools import Builder\n",
    "from ecgtools.parsers.cesm import parse_cesm_timeseries"
   ]
  },
  {
   "cell_type": "markdown",
   "id": "08ae0084-508c-42fa-a3b7-00fabcce66f1",
   "metadata": {},
   "source": [
    "## Build the catalog using `parse_cesm_timeseries`"
   ]
  },
  {
   "cell_type": "code",
   "execution_count": 2,
   "id": "963ba5e3-2a66-4300-80b2-9572e7c70b9c",
   "metadata": {},
   "outputs": [],
   "source": [
    "b = Builder(root_path = '../data/')"
   ]
  },
  {
   "cell_type": "code",
   "execution_count": 3,
   "id": "1b8e412e-35ee-433b-9e57-d7445a190791",
   "metadata": {},
   "outputs": [
    {
     "name": "stderr",
     "output_type": "stream",
     "text": [
      "[Parallel(n_jobs=-1)]: Using backend LokyBackend with 36 concurrent workers.\n",
      "[Parallel(n_jobs=-1)]: Done   1 out of   1 | elapsed:    0.4s finished\n",
      "[Parallel(n_jobs=-1)]: Using backend LokyBackend with 36 concurrent workers.\n",
      "[Parallel(n_jobs=-1)]: Done   2 out of   2 | elapsed:    0.8s remaining:    0.0s\n",
      "[Parallel(n_jobs=-1)]: Done   2 out of   2 | elapsed:    0.8s finished\n"
     ]
    },
    {
     "data": {
      "text/plain": [
       "Builder(root_path=PosixPath('../data'), extension='.nc', depth=0, exclude_patterns=None, njobs=-1)"
      ]
     },
     "execution_count": 3,
     "metadata": {},
     "output_type": "execute_result"
    }
   ],
   "source": [
    "b.build(parse_cesm_timeseries)"
   ]
  },
  {
   "cell_type": "markdown",
   "id": "6e78e182-343f-492f-83c8-9e10d62d478c",
   "metadata": {},
   "source": [
    "## Inspect the catalog"
   ]
  },
  {
   "cell_type": "code",
   "execution_count": 4,
   "id": "13ed446b-372b-4d46-8917-7ce0e5d55a17",
   "metadata": {},
   "outputs": [
    {
     "data": {
      "text/html": [
       "<div>\n",
       "<style scoped>\n",
       "    .dataframe tbody tr th:only-of-type {\n",
       "        vertical-align: middle;\n",
       "    }\n",
       "\n",
       "    .dataframe tbody tr th {\n",
       "        vertical-align: top;\n",
       "    }\n",
       "\n",
       "    .dataframe thead th {\n",
       "        text-align: right;\n",
       "    }\n",
       "</style>\n",
       "<table border=\"1\" class=\"dataframe\">\n",
       "  <thead>\n",
       "    <tr style=\"text-align: right;\">\n",
       "      <th></th>\n",
       "      <th>component</th>\n",
       "      <th>stream</th>\n",
       "      <th>case</th>\n",
       "      <th>member_id</th>\n",
       "      <th>variable</th>\n",
       "      <th>start_time</th>\n",
       "      <th>end_time</th>\n",
       "      <th>time_range</th>\n",
       "      <th>long_name</th>\n",
       "      <th>units</th>\n",
       "      <th>vertical_levels</th>\n",
       "      <th>frequency</th>\n",
       "      <th>path</th>\n",
       "    </tr>\n",
       "  </thead>\n",
       "  <tbody>\n",
       "    <tr>\n",
       "      <th>0</th>\n",
       "      <td>ocn</td>\n",
       "      <td>pop.h</td>\n",
       "      <td>b.e20.B1850.f19_g17.test</td>\n",
       "      <td>None</td>\n",
       "      <td>SALT</td>\n",
       "      <td>0001-01</td>\n",
       "      <td>0001-12</td>\n",
       "      <td>000101-000112</td>\n",
       "      <td>Salinity</td>\n",
       "      <td>gram/kilogram</td>\n",
       "      <td>1</td>\n",
       "      <td>month_1</td>\n",
       "      <td>../data/b.e20.B1850.f19_g17.test.pop.h.SALT.00...</td>\n",
       "    </tr>\n",
       "    <tr>\n",
       "      <th>1</th>\n",
       "      <td>ocn</td>\n",
       "      <td>pop.h</td>\n",
       "      <td>b.e20.B1850.f19_g17.test</td>\n",
       "      <td>None</td>\n",
       "      <td>TEMP</td>\n",
       "      <td>0001-01</td>\n",
       "      <td>0001-12</td>\n",
       "      <td>000101-000112</td>\n",
       "      <td>Potential Temperature</td>\n",
       "      <td>degC</td>\n",
       "      <td>1</td>\n",
       "      <td>month_1</td>\n",
       "      <td>../data/b.e20.B1850.f19_g17.test.pop.h.TEMP.00...</td>\n",
       "    </tr>\n",
       "  </tbody>\n",
       "</table>\n",
       "</div>"
      ],
      "text/plain": [
       "  component stream                      case member_id variable start_time  \\\n",
       "0       ocn  pop.h  b.e20.B1850.f19_g17.test      None     SALT    0001-01   \n",
       "1       ocn  pop.h  b.e20.B1850.f19_g17.test      None     TEMP    0001-01   \n",
       "\n",
       "  end_time     time_range              long_name          units  \\\n",
       "0  0001-12  000101-000112               Salinity  gram/kilogram   \n",
       "1  0001-12  000101-000112  Potential Temperature           degC   \n",
       "\n",
       "   vertical_levels frequency  \\\n",
       "0                1   month_1   \n",
       "1                1   month_1   \n",
       "\n",
       "                                                path  \n",
       "0  ../data/b.e20.B1850.f19_g17.test.pop.h.SALT.00...  \n",
       "1  ../data/b.e20.B1850.f19_g17.test.pop.h.TEMP.00...  "
      ]
     },
     "execution_count": 4,
     "metadata": {},
     "output_type": "execute_result"
    }
   ],
   "source": [
    "b.df"
   ]
  },
  {
   "cell_type": "markdown",
   "id": "921ff87e-feac-4014-9fc5-d8579bffd53e",
   "metadata": {},
   "source": [
    "## Save the Catalog"
   ]
  },
  {
   "cell_type": "code",
   "execution_count": 5,
   "id": "c6fe9ba1-ce8d-4ec5-9322-459c302c37a7",
   "metadata": {},
   "outputs": [
    {
     "name": "stdout",
     "output_type": "stream",
     "text": [
      "Saved catalog location: ../data/test_catalog.json and ../data/test_catalog.csv\n"
     ]
    }
   ],
   "source": [
    "b.save(\n",
    "    '../data/test_catalog.csv',\n",
    "    \n",
    "    # Column name including filepath\n",
    "    path_column_name='path',\n",
    "    # Column name including variables\n",
    "    variable_column_name='variable',\n",
    "    # Data file format - could be netcdf or zarr (in this case, netcdf)\n",
    "    data_format=\"netcdf\",\n",
    "    # Which attributes to groupby when reading in variables using intake-esm\n",
    "    groupby_attrs=[\"component\", \"stream\", \"case\"],\n",
    "    # Aggregations which are fed into xarray when reading in data using intake\n",
    "    aggregations=[\n",
    "        {'type': 'union', 'attribute_name': 'variable'},\n",
    "        {\n",
    "            \"type\": \"join_existing\",\n",
    "            \"attribute_name\": \"time_range\",\n",
    "            \"options\": {\"dim\": \"time\", \"coords\": \"minimal\", \"compat\": \"override\"},\n",
    "        }\n",
    "    ],\n",
    ")"
   ]
  },
  {
   "cell_type": "markdown",
   "id": "2680282b-d207-44d6-a739-19e65836918a",
   "metadata": {},
   "source": [
    "## Test reading in the catalog"
   ]
  },
  {
   "cell_type": "code",
   "execution_count": 6,
   "id": "4cb05573-dbd0-4c38-a790-504f5d32136f",
   "metadata": {},
   "outputs": [],
   "source": [
    "import intake"
   ]
  },
  {
   "cell_type": "code",
   "execution_count": 7,
   "id": "50664d31-8093-4831-8bc4-b5540d027601",
   "metadata": {},
   "outputs": [],
   "source": [
    "col = intake.open_esm_datastore('../data/test_catalog.json')"
   ]
  },
  {
   "cell_type": "code",
   "execution_count": 8,
   "id": "3b708c6f-8739-4a73-82cc-237a2948f958",
   "metadata": {},
   "outputs": [
    {
     "name": "stdout",
     "output_type": "stream",
     "text": [
      "\n",
      "--> The keys in the returned dictionary of datasets are constructed as follows:\n",
      "\t'component.stream.case'\n"
     ]
    },
    {
     "data": {
      "text/html": [
       "\n",
       "    <div>\n",
       "        <style>\n",
       "            /* Turns off some styling */\n",
       "            progress {\n",
       "                /* gets rid of default border in Firefox and Opera. */\n",
       "                border: none;\n",
       "                /* Needs to be in here for Safari polyfill so background images work as expected. */\n",
       "                background-size: auto;\n",
       "            }\n",
       "            .progress-bar-interrupted, .progress-bar-interrupted::-webkit-progress-bar {\n",
       "                background: #F44336;\n",
       "            }\n",
       "        </style>\n",
       "      <progress value='1' class='' max='1' style='width:300px; height:20px; vertical-align: middle;'></progress>\n",
       "      100.00% [1/1 00:00<00:00]\n",
       "    </div>\n",
       "    "
      ],
      "text/plain": [
       "<IPython.core.display.HTML object>"
      ]
     },
     "metadata": {},
     "output_type": "display_data"
    }
   ],
   "source": [
    "dsets = col.search(variable='TEMP').to_dataset_dict()"
   ]
  },
  {
   "cell_type": "code",
   "execution_count": 9,
   "id": "65664842-dae4-4e78-9f01-f8f7a26e584e",
   "metadata": {},
   "outputs": [
    {
     "data": {
      "text/plain": [
       "dict_keys(['ocn.pop.h.b.e20.B1850.f19_g17.test'])"
      ]
     },
     "execution_count": 9,
     "metadata": {},
     "output_type": "execute_result"
    }
   ],
   "source": [
    "dsets.keys()"
   ]
  },
  {
   "cell_type": "code",
   "execution_count": 10,
   "id": "8aba3b92-a845-484b-8c26-7256093956b7",
   "metadata": {},
   "outputs": [],
   "source": [
    "ds = dsets['ocn.pop.h.b.e20.B1850.f19_g17.test']"
   ]
  },
  {
   "cell_type": "markdown",
   "id": "022181c0-24cd-4f3f-8b29-b1071f862d3a",
   "metadata": {},
   "source": [
    "## Visualize the output"
   ]
  },
  {
   "cell_type": "code",
   "execution_count": 11,
   "id": "68064229-78af-4edf-95da-82a451080371",
   "metadata": {},
   "outputs": [
    {
     "data": {
      "text/plain": [
       "<matplotlib.collections.QuadMesh at 0x2b601ff9f6d0>"
      ]
     },
     "execution_count": 11,
     "metadata": {},
     "output_type": "execute_result"
    },
    {
     "data": {
      "image/png": "[encoded data removed]",
      "text/plain": [
       "<Figure size 432x288 with 2 Axes>"
      ]
     },
     "metadata": {
      "needs_background": "light"
     },
     "output_type": "display_data"
    }
   ],
   "source": [
    "ds.isel(time=0, z_t=0).TEMP.plot()"
   ]
  }
 ],
 "metadata": {
  "kernelspec": {
   "display_name": "Python [conda env:miniconda3-cesm2-marbl]",
   "language": "python",
   "name": "conda-env-miniconda3-cesm2-marbl-py"
  },
  "language_info": {
   "codemirror_mode": {
    "name": "ipython",
    "version": 3
   },
   "file_extension": ".py",
   "mimetype": "text/x-python",
   "name": "python",
   "nbconvert_exporter": "python",
   "pygments_lexer": "ipython3",
   "version": "3.7.10"
  }
 },
 "nbformat": 4,
 "nbformat_minor": 5
}
