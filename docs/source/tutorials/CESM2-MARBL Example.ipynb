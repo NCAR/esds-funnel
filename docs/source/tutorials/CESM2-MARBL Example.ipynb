{
 "cells": [
  {
   "cell_type": "markdown",
   "id": "336daaf3-adb6-4c02-a7fd-949d8bb14bd1",
   "metadata": {
    "tags": []
   },
   "source": [
    "# Reproduction of CESM2-MARBL Figures\n",
    "\n",
    "The goal of this example is to show we can use `esds-funnel` to reproduce figures looking at marine biogeochemistry (BGC) diagnostics from CESM2-MARBL"
   ]
  },
  {
   "cell_type": "markdown",
   "id": "72875039-c2df-47a2-8f1e-3de52ec8ab98",
   "metadata": {
    "tags": []
   },
   "source": [
    "## Epoch Mean Global Map\n",
    "\n",
    "One of the plots we are aiming to reproduce is a mean over some time period (epoch mean), plotted at the global scale (lat/lon) plot. \n",
    "\n",
    "An example of this is given below, where in our case, we will have a model vs. model comparison instead of observations.\n",
    "\n",
    "![lat-lon-plot](https://github.com/marbl-ecosys/cesm2-marbl/blob/main/notebooks/figures/13-chl-surface-maps.png?raw=true)"
   ]
  },
  {
   "cell_type": "markdown",
   "id": "abcb513f-55f2-469e-a5cb-cc7ce0432c3a",
   "metadata": {
    "tags": []
   },
   "source": [
    "## Epoch Mean Zonal Average\n",
    "\n",
    "We can then create a slight modification of the preivous flow, calculating a zonal average instead of looking at both lat/lon. \n",
    "\n",
    "An example of this is given below, where in our case, we will have a model vs. model comparison instead of observations (GLODAP).\n",
    "\n",
    "![zonal-avg](https://github.com/marbl-ecosys/cesm2-marbl/blob/main/notebooks/figures/02-za-obs-comparison-pCFC11.png?raw=true)"
   ]
  },
  {
   "cell_type": "markdown",
   "id": "bcd87172-5bae-4a08-affb-336e48361169",
   "metadata": {},
   "source": [
    "## Global Annual Average\n",
    "\n",
    "The last plot we are recreating is a global annual average. This will include an average of fields around the globe, as well as integrals for some fields.\n",
    "\n",
    "![timeseries](https://github.com/marbl-ecosys/cesm2-marbl/blob/main/notebooks/figures/24-global-timeseries-FG_CO2.png?raw=true)"
   ]
  },
  {
   "cell_type": "markdown",
   "id": "3733c5eb-1daa-44d4-ad48-88264237157a",
   "metadata": {},
   "source": [
    "## Imports\n",
    "We start first with importing the \"ingredients\" of `esds-funnel`, including:\n",
    "* [xpersist](https://xpersist.readthedocs.io/en/latest/)\n",
    "* [xcollection](https://xcollection.readthedocs.io/en/latest/)\n",
    "* [Prefect](https://www.prefect.io/)\n",
    "* [intake-esm](https://intake-esm.readthedocs.io/en/stable/)\n",
    "\n"
   ]
  },
  {
   "cell_type": "code",
   "execution_count": 2,
   "id": "af4525b2-cb23-4839-87e7-09132d139b84",
   "metadata": {},
   "outputs": [],
   "source": [
    "import os\n",
    "\n",
    "os.environ[\"PREFECT__FLOWS__CHECKPOINTING\"] = \"True\"\n",
    "\n",
    "import tempfile\n",
    "import time\n",
    "\n",
    "import numpy as np\n",
    "import xarray as xr\n",
    "import xcollection as xc\n",
    "from distributed import Client\n",
    "import intake\n",
    "from ncar_jobqueue import NCARCluster\n",
    "from prefect import Flow, Parameter, task\n",
    "from xpersist import CacheStore, XpersistResult"
   ]
  },
  {
   "cell_type": "markdown",
   "id": "64ae089c-e4e8-494d-88e2-83214b6ff7d7",
   "metadata": {},
   "source": [
    "## Spin up a Dask Cluster"
   ]
  },
  {
   "cell_type": "code",
   "execution_count": 3,
   "id": "834a17b1-8966-4b45-8ba9-4b39b4fae559",
   "metadata": {},
   "outputs": [
    {
     "name": "stderr",
     "output_type": "stream",
     "text": [
      "/glade/work/mgrover/miniconda3/envs/esds-funnel-docs/lib/python3.9/site-packages/distributed/node.py:160: UserWarning: Port 8787 is already in use.\n",
      "Perhaps you already have a cluster running?\n",
      "Hosting the HTTP server on port 39435 instead\n",
      "  warnings.warn(\n"
     ]
    },
    {
     "data": {
      "text/html": [
       "<div>\n",
       "    <div style=\"width: 24px; height: 24px; background-color: #e1e1e1; border: 3px solid #9D9D9D; border-radius: 5px; position: absolute;\"> </div>\n",
       "    <div style=\"margin-left: 48px;\">\n",
       "        <h3 style=\"margin-bottom: 0px;\">Client</h3>\n",
       "        <p style=\"color: #9D9D9D; margin-bottom: 0px;\">Client-1529370c-6e70-11ec-973a-3cecef1acbfa</p>\n",
       "        <table style=\"width: 100%; text-align: left;\">\n",
       "\n",
       "        <tr>\n",
       "        \n",
       "            <td style=\"text-align: left;\"><strong>Connection method:</strong> Cluster object</td>\n",
       "            <td style=\"text-align: left;\"><strong>Cluster type:</strong> dask_jobqueue.PBSCluster</td>\n",
       "        \n",
       "        </tr>\n",
       "\n",
       "        \n",
       "            <tr>\n",
       "                <td style=\"text-align: left;\">\n",
       "                    <strong>Dashboard: </strong> <a href=\"https://jupyterhub.hpc.ucar.edu/stable/user/mgrover/proxy/39435/status\" target=\"_blank\">https://jupyterhub.hpc.ucar.edu/stable/user/mgrover/proxy/39435/status</a>\n",
       "                </td>\n",
       "                <td style=\"text-align: left;\"></td>\n",
       "            </tr>\n",
       "        \n",
       "\n",
       "        </table>\n",
       "\n",
       "        \n",
       "            <details>\n",
       "            <summary style=\"margin-bottom: 20px;\"><h3 style=\"display: inline;\">Cluster Info</h3></summary>\n",
       "            <div class=\"jp-RenderedHTMLCommon jp-RenderedHTML jp-mod-trusted jp-OutputArea-output\">\n",
       "    <div style=\"width: 24px; height: 24px; background-color: #e1e1e1; border: 3px solid #9D9D9D; border-radius: 5px; position: absolute;\">\n",
       "    </div>\n",
       "    <div style=\"margin-left: 48px;\">\n",
       "        <h3 style=\"margin-bottom: 0px; margin-top: 0px;\">PBSCluster</h3>\n",
       "        <p style=\"color: #9D9D9D; margin-bottom: 0px;\">d4347f6e</p>\n",
       "        <table style=\"width: 100%; text-align: left;\">\n",
       "            <tr>\n",
       "                <td style=\"text-align: left;\">\n",
       "                    <strong>Dashboard:</strong> <a href=\"https://jupyterhub.hpc.ucar.edu/stable/user/mgrover/proxy/39435/status\" target=\"_blank\">https://jupyterhub.hpc.ucar.edu/stable/user/mgrover/proxy/39435/status</a>\n",
       "                </td>\n",
       "                <td style=\"text-align: left;\">\n",
       "                    <strong>Workers:</strong> 0\n",
       "                </td>\n",
       "            </tr>\n",
       "            <tr>\n",
       "                <td style=\"text-align: left;\">\n",
       "                    <strong>Total threads:</strong> 0\n",
       "                </td>\n",
       "                <td style=\"text-align: left;\">\n",
       "                    <strong>Total memory:</strong> 0 B\n",
       "                </td>\n",
       "            </tr>\n",
       "            \n",
       "        </table>\n",
       "\n",
       "        <details>\n",
       "            <summary style=\"margin-bottom: 20px;\">\n",
       "                <h3 style=\"display: inline;\">Scheduler Info</h3>\n",
       "            </summary>\n",
       "\n",
       "            <div style=\"\">\n",
       "    <div>\n",
       "        <div style=\"width: 24px; height: 24px; background-color: #FFF7E5; border: 3px solid #FF6132; border-radius: 5px; position: absolute;\"> </div>\n",
       "        <div style=\"margin-left: 48px;\">\n",
       "            <h3 style=\"margin-bottom: 0px;\">Scheduler</h3>\n",
       "            <p style=\"color: #9D9D9D; margin-bottom: 0px;\">Scheduler-c7533a1a-e031-4404-92f8-516ccff94128</p>\n",
       "            <table style=\"width: 100%; text-align: left;\">\n",
       "                <tr>\n",
       "                    <td style=\"text-align: left;\">\n",
       "                        <strong>Comm:</strong> tcp://10.12.206.63:43476\n",
       "                    </td>\n",
       "                    <td style=\"text-align: left;\">\n",
       "                        <strong>Workers:</strong> 0\n",
       "                    </td>\n",
       "                </tr>\n",
       "                <tr>\n",
       "                    <td style=\"text-align: left;\">\n",
       "                        <strong>Dashboard:</strong> <a href=\"https://jupyterhub.hpc.ucar.edu/stable/user/mgrover/proxy/39435/status\" target=\"_blank\">https://jupyterhub.hpc.ucar.edu/stable/user/mgrover/proxy/39435/status</a>\n",
       "                    </td>\n",
       "                    <td style=\"text-align: left;\">\n",
       "                        <strong>Total threads:</strong> 0\n",
       "                    </td>\n",
       "                </tr>\n",
       "                <tr>\n",
       "                    <td style=\"text-align: left;\">\n",
       "                        <strong>Started:</strong> Just now\n",
       "                    </td>\n",
       "                    <td style=\"text-align: left;\">\n",
       "                        <strong>Total memory:</strong> 0 B\n",
       "                    </td>\n",
       "                </tr>\n",
       "            </table>\n",
       "        </div>\n",
       "    </div>\n",
       "\n",
       "    <details style=\"margin-left: 48px;\">\n",
       "        <summary style=\"margin-bottom: 20px;\">\n",
       "            <h3 style=\"display: inline;\">Workers</h3>\n",
       "        </summary>\n",
       "\n",
       "        \n",
       "\n",
       "    </details>\n",
       "</div>\n",
       "\n",
       "        </details>\n",
       "    </div>\n",
       "</div>\n",
       "            </details>\n",
       "        \n",
       "\n",
       "    </div>\n",
       "</div>"
      ],
      "text/plain": [
       "<Client: 'tcp://10.12.206.63:43476' processes=0 threads=0, memory=0 B>"
      ]
     },
     "execution_count": 3,
     "metadata": {},
     "output_type": "execute_result"
    }
   ],
   "source": [
    "cluster = NCARCluster()\n",
    "cluster.scale(40)\n",
    "client = Client(cluster)\n",
    "client"
   ]
  },
  {
   "cell_type": "markdown",
   "id": "4396f5c0-02a8-4ce4-88ab-284f69aefbba",
   "metadata": {},
   "source": [
    "## Configure Your Cache Store\n",
    "Before we get started with the diagnostics, we need to setup a place for our cache. In this case, we use our `tempfile` directory, adding an additional directory `marbl-example-cache`"
   ]
  },
  {
   "cell_type": "code",
   "execution_count": 4,
   "id": "b007eea9-71f6-404e-b5d9-06b1a6c45197",
   "metadata": {},
   "outputs": [
    {
     "data": {
      "text/plain": [
       "CacheStore(path='/glade/scratch/mgrover/marbl-example-cache', readonly=False, on_duplicate_key=<DuplicateKeyEnum.skip: 'skip'>, storage_options={})"
      ]
     },
     "execution_count": 4,
     "metadata": {},
     "output_type": "execute_result"
    }
   ],
   "source": [
    "store = CacheStore(f'{tempfile.gettempdir()}/marbl-example-cache')\n",
    "store"
   ]
  },
  {
   "cell_type": "markdown",
   "id": "62628cab-fa42-4e27-bf2e-bdc05b00c94b",
   "metadata": {},
   "source": [
    "## Epoch Mean Global Map Example\n",
    "As mentioned before, in this first example, we will generate an analysis where we average over some `time` dimension, and plot a global map of some field(s)"
   ]
  },
  {
   "cell_type": "markdown",
   "id": "77011a4f-330a-405e-8f7b-39b6ed224995",
   "metadata": {},
   "source": [
    "### Setup the Operators"
   ]
  },
  {
   "cell_type": "code",
   "execution_count": 5,
   "id": "9056039e-9b19-4a07-8725-0dcb81172271",
   "metadata": {},
   "outputs": [],
   "source": [
    "def epoch_mean(ds):\n",
    "    \"\"\"Take the average over some time dimension\"\"\"\n",
    "    return ds.mean(dim='time')"
   ]
  },
  {
   "cell_type": "markdown",
   "id": "91d1f3c3-82a2-4ae6-bfa8-49ac0c5e157c",
   "metadata": {},
   "source": [
    "### Setup the Tasks"
   ]
  },
  {
   "cell_type": "code",
   "execution_count": 7,
   "id": "7fbe2df4-d268-44a1-b598-9fe20807e72f",
   "metadata": {},
   "outputs": [],
   "source": [
    "@task\n",
    "def read_catalog(path, multivar_row=False):\n",
    "    \"\"\"\n",
    "    Reads in an intake-esm catalog from a given path\n",
    "\n",
    "    Parameters\n",
    "    ----------\n",
    "    path: str, path to the associated intake-esm catalog json\n",
    "\n",
    "    multivar_row: boolean, default=False, whether multiple variables are in each row\n",
    "\n",
    "    Returns\n",
    "    -------\n",
    "    intake_esm.Catalog\n",
    "    \"\"\"\n",
    "    if multivar_row:\n",
    "        read_csv_kwargs = {\"converters\": {\"variables\": ast.literal_eval}}\n",
    "    else:\n",
    "        read_csv_kwargs = None\n",
    "\n",
    "    return intake.open_esm_datastore(path, read_csv_kwargs=read_csv_kwargs)\n",
    "\n",
    "\n",
    "@task\n",
    "def subset_catalog(intake_esm_catalog, search_dict):\n",
    "    \"\"\"\n",
    "    Subsets an intake-esm catalog given a search dictionary\n",
    "\n",
    "    Parameters\n",
    "    ----------\n",
    "    intake_esm_catalog: intake_esm.Catalog\n",
    "\n",
    "    search_dict: dict, dictionary to use for searching the catalog\n",
    "\n",
    "    Returns\n",
    "    -------\n",
    "    catalog_subset: intake_esm.Catalog, catalog subsetted for given search\n",
    "    \"\"\"\n",
    "    return intake_esm_catalog.search(**search_dict)\n",
    "\n",
    "\n",
    "@task\n",
    "def load_catalog(intake_esm_catalog, cdf_kwargs={}):\n",
    "    \"\"\"\n",
    "    Loads the intake-esm catalog datasets into an xcollection.Collection\n",
    "\n",
    "    Parameters\n",
    "    ----------\n",
    "    intake_esm_catalog: intake_esm.Catalog, catalog to read the datasets from\n",
    "\n",
    "    cdf_kwargs: dict, dataset kwargs for intake-esm (cdf_kwargs)\n",
    "\n",
    "    Returns\n",
    "    -------\n",
    "    collection: xcollection.Collection\n",
    "    \"\"\"\n",
    "    return intake_esm_catalog.to_collection(cdf_kwargs=cdf_kwargs)\n",
    "\n",
    "\n",
    "@task\n",
    "def get_task_attr(obj, attr):\n",
    "    \"\"\"\n",
    "    Retrives an attribute from a Prefect.Task\n",
    "\n",
    "    Parameters\n",
    "    ----------\n",
    "    obj: Prefect.Task, the task you would like to retrieve the attributes from\n",
    "\n",
    "    attr: str, attribute you would like to retrieve\n",
    "\n",
    "    Returns\n",
    "    -------\n",
    "    object_out: Desired attribute\n",
    "    \"\"\"\n",
    "    return list(getattr(obj, attr)())\n",
    "\n",
    "\n",
    "@task(\n",
    "    target=\"{task_name}-{key}.zarr\",\n",
    "    result=XpersistResult(store, serializer=\"xarray.zarr\", serializer_dump_kwargs={\"mode\": \"w\"}),\n",
    ")\n",
    "def epoch_average(ds, key):\n",
    "    return epoch_mean(ds)"
   ]
  },
  {
   "cell_type": "code",
   "execution_count": 9,
   "id": "1bf681c3-b2e1-40f3-a26c-b8ca0ab56b20",
   "metadata": {},
   "outputs": [],
   "source": [
    "with Flow('epoch_mean') as epoch_mean_flow:\n",
    "    collection_path = Parameter(\n",
    "        'collection_path',\n",
    "        default='/glade/work/mgrover/cesm2_le_test_data/catalogs/cesm2-le-subset.json',\n",
    "    )\n",
    "    multivar_row = Parameter('multi_var_row', default=False)\n",
    "    search_dict = Parameter('search_dict', default={})\n",
    "    cdf_kwargs = Parameter('cdf_kwargs', default=None)\n",
    "\n",
    "    # Load the intake-esm catalog into memory\n",
    "    data_catalog = read_catalog(collection_path, multivar_row)\n",
    "\n",
    "    # Subset the catalog\n",
    "    data_catalog_subset = subset_catalog(data_catalog, search_dict)\n",
    "\n",
    "    # Convert to catalog to an xcollection\n",
    "    collection = load_catalog(data_catalog_subset, cdf_kwargs=cdf_kwargs)\n",
    "\n",
    "    values = get_task_attr(collection, \"values\")\n",
    "    keys = get_task_attr(collection, \"keys\")\n",
    "\n",
    "    # Apply the epoch average operator\n",
    "    epoch_average_collection = epoch_average.map(values, keys)"
   ]
  },
  {
   "cell_type": "code",
   "execution_count": 10,
   "id": "397143de-ca1d-4880-82bd-5599b33bd114",
   "metadata": {},
   "outputs": [
    {
     "name": "stdout",
     "output_type": "stream",
     "text": [
      "[2022-01-05 14:50:20-0700] INFO - prefect.FlowRunner | Beginning Flow run for 'epoch_mean'\n",
      "[2022-01-05 14:50:20-0700] INFO - prefect.TaskRunner | Task 'multi_var_row': Starting task run...\n",
      "[2022-01-05 14:50:20-0700] INFO - prefect.TaskRunner | Task 'multi_var_row': Finished task run for task with final state: 'Success'\n",
      "[2022-01-05 14:50:20-0700] INFO - prefect.TaskRunner | Task 'search_dict': Starting task run...\n",
      "[2022-01-05 14:50:20-0700] INFO - prefect.TaskRunner | Task 'search_dict': Finished task run for task with final state: 'Success'\n",
      "[2022-01-05 14:50:20-0700] INFO - prefect.TaskRunner | Task 'collection_path': Starting task run...\n",
      "[2022-01-05 14:50:20-0700] INFO - prefect.TaskRunner | Task 'collection_path': Finished task run for task with final state: 'Success'\n",
      "[2022-01-05 14:50:20-0700] INFO - prefect.TaskRunner | Task 'cdf_kwargs': Starting task run...\n",
      "[2022-01-05 14:50:20-0700] INFO - prefect.TaskRunner | Task 'cdf_kwargs': Finished task run for task with final state: 'Success'\n",
      "[2022-01-05 14:50:20-0700] INFO - prefect.TaskRunner | Task 'read_catalog': Starting task run...\n",
      "[2022-01-05 14:50:20-0700] INFO - prefect.TaskRunner | Task 'read_catalog': Finished task run for task with final state: 'Success'\n",
      "[2022-01-05 14:50:20-0700] INFO - prefect.TaskRunner | Task 'subset_catalog': Starting task run...\n",
      "[2022-01-05 14:50:20-0700] INFO - prefect.TaskRunner | Task 'subset_catalog': Finished task run for task with final state: 'Success'\n",
      "[2022-01-05 14:50:20-0700] INFO - prefect.TaskRunner | Task 'load_catalog': Starting task run...\n",
      "\n",
      "--> The keys in the returned dictionary of datasets are constructed as follows:\n",
      "\t'component.stream.case'\n"
     ]
    },
    {
     "data": {
      "text/html": [
       "\n",
       "    <div>\n",
       "        <style>\n",
       "            /* Turns off some styling */\n",
       "            progress {\n",
       "                /* gets rid of default border in Firefox and Opera. */\n",
       "                border: none;\n",
       "                /* Needs to be in here for Safari polyfill so background images work as expected. */\n",
       "                background-size: auto;\n",
       "            }\n",
       "            .progress-bar-interrupted, .progress-bar-interrupted::-webkit-progress-bar {\n",
       "                background: #F44336;\n",
       "            }\n",
       "        </style>\n",
       "      <progress value='2' class='' max='2' style='width:300px; height:20px; vertical-align: middle;'></progress>\n",
       "      100.00% [2/2 00:11<00:00]\n",
       "    </div>\n",
       "    "
      ],
      "text/plain": [
       "<IPython.core.display.HTML object>"
      ]
     },
     "metadata": {},
     "output_type": "display_data"
    },
    {
     "name": "stdout",
     "output_type": "stream",
     "text": [
      "[2022-01-05 14:50:32-0700] INFO - prefect.TaskRunner | Task 'load_catalog': Finished task run for task with final state: 'Success'\n",
      "[2022-01-05 14:50:32-0700] INFO - prefect.TaskRunner | Task 'get_task_attr': Starting task run...\n",
      "[2022-01-05 14:50:32-0700] INFO - prefect.TaskRunner | Task 'get_task_attr': Finished task run for task with final state: 'Success'\n",
      "[2022-01-05 14:50:32-0700] INFO - prefect.TaskRunner | Task 'get_task_attr': Starting task run...\n",
      "[2022-01-05 14:50:32-0700] INFO - prefect.TaskRunner | Task 'get_task_attr': Finished task run for task with final state: 'Success'\n",
      "[2022-01-05 14:50:32-0700] INFO - prefect.TaskRunner | Task 'epoch_average': Starting task run...\n",
      "[2022-01-05 14:50:32-0700] INFO - prefect.TaskRunner | Task 'epoch_average': Finished task run for task with final state: 'Mapped'\n",
      "[2022-01-05 14:50:32-0700] INFO - prefect.TaskRunner | Task 'epoch_average[0]': Starting task run...\n",
      "[2022-01-05 14:50:56-0700] INFO - prefect.TaskRunner | Task 'epoch_average[0]': Finished task run for task with final state: 'Success'\n",
      "[2022-01-05 14:50:56-0700] INFO - prefect.TaskRunner | Task 'epoch_average[1]': Starting task run...\n",
      "[2022-01-05 14:51:17-0700] INFO - prefect.TaskRunner | Task 'epoch_average[1]': Finished task run for task with final state: 'Success'\n",
      "[2022-01-05 14:51:17-0700] INFO - prefect.FlowRunner | Flow run SUCCESS: all reference tasks succeeded\n"
     ]
    }
   ],
   "source": [
    "run_flow = epoch_mean_flow.run(search_dict={'stream': 'pop.h', 'variable': 'PO4'}, cdf_kwargs={})"
   ]
  },
  {
   "cell_type": "code",
   "execution_count": 32,
   "id": "ed9edac8-978f-4439-ae0d-8763d29a33be",
   "metadata": {},
   "outputs": [
    {
     "data": {
      "text/plain": [
       "['epoch_mean-epoch_average-ocn.pop.h.b.e21.BHISTsmbb.f09_g17.LE2-1301.013.zarr',\n",
       " 'epoch_average-ocn.pop.h.b.e21.BHISTcmip6.f09_g17.LE2-1001.001.zarr',\n",
       " 'epoch_average-ocn.pop.h.b.e21.BHISTsmbb.f09_g17.LE2-1301.013.zarr',\n",
       " 'epoch_mean-epoch_average-ocn.pop.h.b.e21.BHISTcmip6.f09_g17.LE2-1001.001.zarr']"
      ]
     },
     "execution_count": 32,
     "metadata": {},
     "output_type": "execute_result"
    }
   ],
   "source": [
    "store.keys()"
   ]
  },
  {
   "cell_type": "code",
   "execution_count": null,
   "id": "0654f50b-b1f1-4ce2-b27d-6341ed050b07",
   "metadata": {},
   "outputs": [],
   "source": []
  }
 ],
 "metadata": {
  "kernelspec": {
   "display_name": "Python [conda env:miniconda3-esds-funnel-docs]",
   "language": "python",
   "name": "conda-env-miniconda3-esds-funnel-docs-py"
  },
  "language_info": {
   "codemirror_mode": {
    "name": "ipython",
    "version": 3
   },
   "file_extension": ".py",
   "mimetype": "text/x-python",
   "name": "python",
   "nbconvert_exporter": "python",
   "pygments_lexer": "ipython3",
   "version": "3.9.7"
  }
 },
 "nbformat": 4,
 "nbformat_minor": 5
}
